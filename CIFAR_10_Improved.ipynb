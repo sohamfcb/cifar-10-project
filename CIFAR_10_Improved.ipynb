{
  "nbformat": 4,
  "nbformat_minor": 0,
  "metadata": {
    "colab": {
      "provenance": []
    },
    "kernelspec": {
      "name": "python3",
      "display_name": "Python 3"
    },
    "language_info": {
      "name": "python"
    },
    "accelerator": "GPU",
    "gpuClass": "standard"
  },
  "cells": [
    {
      "cell_type": "code",
      "execution_count": 1,
      "metadata": {
        "id": "UdcN8OQ_Mz0u"
      },
      "outputs": [],
      "source": [
        "import numpy as np\n",
        "import pandas as pd\n",
        "import matplotlib.pyplot as plt"
      ]
    },
    {
      "cell_type": "code",
      "source": [
        "from tensorflow.keras.datasets import cifar10"
      ],
      "metadata": {
        "id": "K8MYmg4_M_-a"
      },
      "execution_count": 2,
      "outputs": []
    },
    {
      "cell_type": "code",
      "source": [
        "(X_train,Y_train),(X_test,Y_test)=cifar10.load_data()"
      ],
      "metadata": {
        "colab": {
          "base_uri": "https://localhost:8080/"
        },
        "id": "MH2Uc6wkNBPB",
        "outputId": "a0ddcb84-642c-4b9a-c6a6-66680762d856"
      },
      "execution_count": 3,
      "outputs": [
        {
          "output_type": "stream",
          "name": "stdout",
          "text": [
            "Downloading data from https://www.cs.toronto.edu/~kriz/cifar-10-python.tar.gz\n",
            "170498071/170498071 [==============================] - 2s 0us/step\n"
          ]
        }
      ]
    },
    {
      "cell_type": "code",
      "source": [
        "X_train,X_test=X_train/255.0,X_test/255.0"
      ],
      "metadata": {
        "id": "m5Z5uk97NCs1"
      },
      "execution_count": 4,
      "outputs": []
    },
    {
      "cell_type": "code",
      "source": [
        "from tensorflow.keras.models import Model\n",
        "from tensorflow.keras.layers import *"
      ],
      "metadata": {
        "id": "udmluxeRNFGP"
      },
      "execution_count": 5,
      "outputs": []
    },
    {
      "cell_type": "code",
      "source": [
        "Y_train,Y_test=Y_train.flatten(),Y_test.flatten()"
      ],
      "metadata": {
        "id": "CuIQB9f9NG9Y"
      },
      "execution_count": 6,
      "outputs": []
    },
    {
      "cell_type": "code",
      "source": [
        "K=len(set(Y_train))\n",
        "K"
      ],
      "metadata": {
        "colab": {
          "base_uri": "https://localhost:8080/"
        },
        "id": "g-NtHepHNcCD",
        "outputId": "3bd873fb-7357-4b28-c332-61e849b2ebaa"
      },
      "execution_count": 7,
      "outputs": [
        {
          "output_type": "execute_result",
          "data": {
            "text/plain": [
              "10"
            ]
          },
          "metadata": {},
          "execution_count": 7
        }
      ]
    },
    {
      "cell_type": "code",
      "source": [
        "X_train[0].shape"
      ],
      "metadata": {
        "colab": {
          "base_uri": "https://localhost:8080/"
        },
        "id": "wtrpgm48NeXF",
        "outputId": "fa5b5b54-4763-4e7d-b37e-dc98318dbf97"
      },
      "execution_count": 8,
      "outputs": [
        {
          "output_type": "execute_result",
          "data": {
            "text/plain": [
              "(32, 32, 3)"
            ]
          },
          "metadata": {},
          "execution_count": 8
        }
      ]
    },
    {
      "cell_type": "code",
      "source": [
        "i=Input(shape=X_train[0].shape)\n",
        "\n",
        "x=Conv2D(32,(3,3),activation='relu',padding='same')(i)\n",
        "x=BatchNormalization()(x)\n",
        "x=Conv2D(32,(3,3),activation='relu',padding='same')(x)\n",
        "x=BatchNormalization()(x)\n",
        "x=MaxPooling2D(pool_size=(2,2))(x)\n",
        "\n",
        "x=Conv2D(64,(3,3),activation='relu',padding='same')(x)\n",
        "x=BatchNormalization()(x)\n",
        "x=Conv2D(64,(3,3),activation='relu',padding='same')(x)\n",
        "x=BatchNormalization()(x)\n",
        "x=MaxPooling2D(pool_size=(2,2))(x)\n",
        "\n",
        "x=Conv2D(128,(3,3),activation='relu',padding='same')(x)\n",
        "x=BatchNormalization()(x)\n",
        "x=Conv2D(128,(3,3),activation='relu',padding='same')(x)\n",
        "x=BatchNormalization()(x)\n",
        "x=MaxPooling2D(pool_size=(2,2))(x)\n",
        "\n",
        "x=Flatten()(x)\n",
        "\n",
        "x=Dropout(0.2)(x)\n",
        "\n",
        "x=Dense(units=1024,activation='relu')(x)\n",
        "x=Dropout(rate=0.2)(x)\n",
        "x=Dense(units=K,activation='softmax')(x)\n",
        "\n",
        "model=Model(inputs=i,outputs=x)"
      ],
      "metadata": {
        "id": "t0Fux6UiNfbe"
      },
      "execution_count": 13,
      "outputs": []
    },
    {
      "cell_type": "code",
      "source": [
        "model.summary()"
      ],
      "metadata": {
        "colab": {
          "base_uri": "https://localhost:8080/"
        },
        "id": "c4aV4W1kPGiD",
        "outputId": "a8af3847-6ce0-4661-ad8d-98f6e181ec63"
      },
      "execution_count": 14,
      "outputs": [
        {
          "output_type": "stream",
          "name": "stdout",
          "text": [
            "Model: \"model_1\"\n",
            "_________________________________________________________________\n",
            " Layer (type)                Output Shape              Param #   \n",
            "=================================================================\n",
            " input_2 (InputLayer)        [(None, 32, 32, 3)]       0         \n",
            "                                                                 \n",
            " conv2d_6 (Conv2D)           (None, 32, 32, 32)        896       \n",
            "                                                                 \n",
            " batch_normalization_6 (Batc  (None, 32, 32, 32)       128       \n",
            " hNormalization)                                                 \n",
            "                                                                 \n",
            " conv2d_7 (Conv2D)           (None, 32, 32, 32)        9248      \n",
            "                                                                 \n",
            " batch_normalization_7 (Batc  (None, 32, 32, 32)       128       \n",
            " hNormalization)                                                 \n",
            "                                                                 \n",
            " max_pooling2d_3 (MaxPooling  (None, 16, 16, 32)       0         \n",
            " 2D)                                                             \n",
            "                                                                 \n",
            " conv2d_8 (Conv2D)           (None, 16, 16, 64)        18496     \n",
            "                                                                 \n",
            " batch_normalization_8 (Batc  (None, 16, 16, 64)       256       \n",
            " hNormalization)                                                 \n",
            "                                                                 \n",
            " conv2d_9 (Conv2D)           (None, 16, 16, 64)        36928     \n",
            "                                                                 \n",
            " batch_normalization_9 (Batc  (None, 16, 16, 64)       256       \n",
            " hNormalization)                                                 \n",
            "                                                                 \n",
            " max_pooling2d_4 (MaxPooling  (None, 8, 8, 64)         0         \n",
            " 2D)                                                             \n",
            "                                                                 \n",
            " conv2d_10 (Conv2D)          (None, 8, 8, 128)         73856     \n",
            "                                                                 \n",
            " batch_normalization_10 (Bat  (None, 8, 8, 128)        512       \n",
            " chNormalization)                                                \n",
            "                                                                 \n",
            " conv2d_11 (Conv2D)          (None, 8, 8, 128)         147584    \n",
            "                                                                 \n",
            " batch_normalization_11 (Bat  (None, 8, 8, 128)        512       \n",
            " chNormalization)                                                \n",
            "                                                                 \n",
            " max_pooling2d_5 (MaxPooling  (None, 4, 4, 128)        0         \n",
            " 2D)                                                             \n",
            "                                                                 \n",
            " flatten_1 (Flatten)         (None, 2048)              0         \n",
            "                                                                 \n",
            " dropout_2 (Dropout)         (None, 2048)              0         \n",
            "                                                                 \n",
            " dense_2 (Dense)             (None, 1024)              2098176   \n",
            "                                                                 \n",
            " dropout_3 (Dropout)         (None, 1024)              0         \n",
            "                                                                 \n",
            " dense_3 (Dense)             (None, 10)                10250     \n",
            "                                                                 \n",
            "=================================================================\n",
            "Total params: 2,397,226\n",
            "Trainable params: 2,396,330\n",
            "Non-trainable params: 896\n",
            "_________________________________________________________________\n"
          ]
        }
      ]
    },
    {
      "cell_type": "code",
      "source": [
        "model.compile(optimizer='adam',loss='sparse_categorical_crossentropy',metrics=['accuracy'])"
      ],
      "metadata": {
        "id": "4-Czv3pHPJ0-"
      },
      "execution_count": 15,
      "outputs": []
    },
    {
      "cell_type": "code",
      "source": [
        "model.fit(X_train,Y_train,validation_data=(X_test,Y_test),epochs=50)"
      ],
      "metadata": {
        "colab": {
          "base_uri": "https://localhost:8080/"
        },
        "id": "jZPxWjbIPhtI",
        "outputId": "7685ccd4-0eeb-49dc-b765-0319f9189b35"
      },
      "execution_count": 16,
      "outputs": [
        {
          "output_type": "stream",
          "name": "stdout",
          "text": [
            "Epoch 1/50\n",
            "1563/1563 [==============================] - 19s 8ms/step - loss: 1.2925 - accuracy: 0.5550 - val_loss: 1.1839 - val_accuracy: 0.6058\n",
            "Epoch 2/50\n",
            "1563/1563 [==============================] - 13s 8ms/step - loss: 0.8490 - accuracy: 0.7052 - val_loss: 0.8712 - val_accuracy: 0.6932\n",
            "Epoch 3/50\n",
            "1563/1563 [==============================] - 13s 8ms/step - loss: 0.6924 - accuracy: 0.7639 - val_loss: 0.9942 - val_accuracy: 0.6935\n",
            "Epoch 4/50\n",
            "1563/1563 [==============================] - 13s 8ms/step - loss: 0.5801 - accuracy: 0.8015 - val_loss: 0.6811 - val_accuracy: 0.7703\n",
            "Epoch 5/50\n",
            "1563/1563 [==============================] - 13s 8ms/step - loss: 0.5044 - accuracy: 0.8267 - val_loss: 0.6938 - val_accuracy: 0.7770\n",
            "Epoch 6/50\n",
            "1563/1563 [==============================] - 13s 8ms/step - loss: 0.4280 - accuracy: 0.8520 - val_loss: 0.6635 - val_accuracy: 0.7995\n",
            "Epoch 7/50\n",
            "1563/1563 [==============================] - 13s 8ms/step - loss: 0.3603 - accuracy: 0.8757 - val_loss: 0.6715 - val_accuracy: 0.7943\n",
            "Epoch 8/50\n",
            "1563/1563 [==============================] - 12s 8ms/step - loss: 0.3005 - accuracy: 0.8969 - val_loss: 0.7103 - val_accuracy: 0.7895\n",
            "Epoch 9/50\n",
            "1563/1563 [==============================] - 14s 9ms/step - loss: 0.2627 - accuracy: 0.9102 - val_loss: 0.6209 - val_accuracy: 0.8168\n",
            "Epoch 10/50\n",
            "1563/1563 [==============================] - 13s 8ms/step - loss: 0.2304 - accuracy: 0.9218 - val_loss: 0.6142 - val_accuracy: 0.8220\n",
            "Epoch 11/50\n",
            "1563/1563 [==============================] - 13s 8ms/step - loss: 0.2000 - accuracy: 0.9314 - val_loss: 0.6913 - val_accuracy: 0.8077\n",
            "Epoch 12/50\n",
            "1563/1563 [==============================] - 13s 8ms/step - loss: 0.1772 - accuracy: 0.9394 - val_loss: 0.6367 - val_accuracy: 0.8301\n",
            "Epoch 13/50\n",
            "1563/1563 [==============================] - 13s 8ms/step - loss: 0.1644 - accuracy: 0.9452 - val_loss: 0.8467 - val_accuracy: 0.8024\n",
            "Epoch 14/50\n",
            "1563/1563 [==============================] - 13s 8ms/step - loss: 0.1455 - accuracy: 0.9498 - val_loss: 0.7729 - val_accuracy: 0.8110\n",
            "Epoch 15/50\n",
            "1563/1563 [==============================] - 13s 8ms/step - loss: 0.1337 - accuracy: 0.9554 - val_loss: 0.6814 - val_accuracy: 0.8372\n",
            "Epoch 16/50\n",
            "1563/1563 [==============================] - 13s 8ms/step - loss: 0.1262 - accuracy: 0.9580 - val_loss: 0.7477 - val_accuracy: 0.8245\n",
            "Epoch 17/50\n",
            "1563/1563 [==============================] - 13s 8ms/step - loss: 0.1154 - accuracy: 0.9612 - val_loss: 0.7151 - val_accuracy: 0.8260\n",
            "Epoch 18/50\n",
            "1563/1563 [==============================] - 13s 8ms/step - loss: 0.1105 - accuracy: 0.9634 - val_loss: 0.7410 - val_accuracy: 0.8247\n",
            "Epoch 19/50\n",
            "1563/1563 [==============================] - 14s 9ms/step - loss: 0.1001 - accuracy: 0.9662 - val_loss: 0.7388 - val_accuracy: 0.8313\n",
            "Epoch 20/50\n",
            "1563/1563 [==============================] - 13s 8ms/step - loss: 0.1002 - accuracy: 0.9664 - val_loss: 0.8369 - val_accuracy: 0.8204\n",
            "Epoch 21/50\n",
            "1563/1563 [==============================] - 13s 8ms/step - loss: 0.0869 - accuracy: 0.9714 - val_loss: 0.7179 - val_accuracy: 0.8359\n",
            "Epoch 22/50\n",
            "1563/1563 [==============================] - 13s 8ms/step - loss: 0.0911 - accuracy: 0.9696 - val_loss: 0.8147 - val_accuracy: 0.8307\n",
            "Epoch 23/50\n",
            "1563/1563 [==============================] - 14s 9ms/step - loss: 0.0843 - accuracy: 0.9728 - val_loss: 0.7346 - val_accuracy: 0.8400\n",
            "Epoch 24/50\n",
            "1563/1563 [==============================] - 12s 8ms/step - loss: 0.0801 - accuracy: 0.9740 - val_loss: 0.7952 - val_accuracy: 0.8306\n",
            "Epoch 25/50\n",
            "1563/1563 [==============================] - 12s 8ms/step - loss: 0.0835 - accuracy: 0.9728 - val_loss: 0.7354 - val_accuracy: 0.8408\n",
            "Epoch 26/50\n",
            "1563/1563 [==============================] - 13s 8ms/step - loss: 0.0749 - accuracy: 0.9756 - val_loss: 0.8333 - val_accuracy: 0.8302\n",
            "Epoch 27/50\n",
            "1563/1563 [==============================] - 13s 8ms/step - loss: 0.0783 - accuracy: 0.9739 - val_loss: 0.6890 - val_accuracy: 0.8361\n",
            "Epoch 28/50\n",
            "1563/1563 [==============================] - 13s 8ms/step - loss: 0.0628 - accuracy: 0.9795 - val_loss: 0.8360 - val_accuracy: 0.8285\n",
            "Epoch 29/50\n",
            "1563/1563 [==============================] - 13s 8ms/step - loss: 0.0670 - accuracy: 0.9784 - val_loss: 0.7540 - val_accuracy: 0.8390\n",
            "Epoch 30/50\n",
            "1563/1563 [==============================] - 13s 8ms/step - loss: 0.0649 - accuracy: 0.9790 - val_loss: 0.7356 - val_accuracy: 0.8369\n",
            "Epoch 31/50\n",
            "1563/1563 [==============================] - 13s 8ms/step - loss: 0.0615 - accuracy: 0.9806 - val_loss: 0.8322 - val_accuracy: 0.8406\n",
            "Epoch 32/50\n",
            "1563/1563 [==============================] - 13s 8ms/step - loss: 0.0629 - accuracy: 0.9792 - val_loss: 0.8040 - val_accuracy: 0.8377\n",
            "Epoch 33/50\n",
            "1563/1563 [==============================] - 13s 9ms/step - loss: 0.0564 - accuracy: 0.9809 - val_loss: 0.8854 - val_accuracy: 0.8348\n",
            "Epoch 34/50\n",
            "1563/1563 [==============================] - 13s 8ms/step - loss: 0.0577 - accuracy: 0.9812 - val_loss: 0.8645 - val_accuracy: 0.8402\n",
            "Epoch 35/50\n",
            "1563/1563 [==============================] - 12s 8ms/step - loss: 0.0565 - accuracy: 0.9813 - val_loss: 0.7699 - val_accuracy: 0.8386\n",
            "Epoch 36/50\n",
            "1563/1563 [==============================] - 13s 8ms/step - loss: 0.0555 - accuracy: 0.9821 - val_loss: 0.8543 - val_accuracy: 0.8363\n",
            "Epoch 37/50\n",
            "1563/1563 [==============================] - 13s 8ms/step - loss: 0.0513 - accuracy: 0.9826 - val_loss: 0.9018 - val_accuracy: 0.8393\n",
            "Epoch 38/50\n",
            "1563/1563 [==============================] - 13s 8ms/step - loss: 0.0513 - accuracy: 0.9844 - val_loss: 0.8364 - val_accuracy: 0.8368\n",
            "Epoch 39/50\n",
            "1563/1563 [==============================] - 13s 8ms/step - loss: 0.0512 - accuracy: 0.9840 - val_loss: 0.8727 - val_accuracy: 0.8438\n",
            "Epoch 40/50\n",
            "1563/1563 [==============================] - 14s 9ms/step - loss: 0.0483 - accuracy: 0.9840 - val_loss: 0.8610 - val_accuracy: 0.8378\n",
            "Epoch 41/50\n",
            "1563/1563 [==============================] - 13s 8ms/step - loss: 0.0484 - accuracy: 0.9840 - val_loss: 0.8550 - val_accuracy: 0.8442\n",
            "Epoch 42/50\n",
            "1563/1563 [==============================] - 13s 8ms/step - loss: 0.0474 - accuracy: 0.9844 - val_loss: 0.8234 - val_accuracy: 0.8437\n",
            "Epoch 43/50\n",
            "1563/1563 [==============================] - 13s 8ms/step - loss: 0.0502 - accuracy: 0.9837 - val_loss: 0.9105 - val_accuracy: 0.8380\n",
            "Epoch 44/50\n",
            "1563/1563 [==============================] - 13s 8ms/step - loss: 0.0419 - accuracy: 0.9864 - val_loss: 0.8468 - val_accuracy: 0.8396\n",
            "Epoch 45/50\n",
            "1563/1563 [==============================] - 13s 8ms/step - loss: 0.0434 - accuracy: 0.9860 - val_loss: 0.9081 - val_accuracy: 0.8364\n",
            "Epoch 46/50\n",
            "1563/1563 [==============================] - 13s 8ms/step - loss: 0.0453 - accuracy: 0.9859 - val_loss: 0.9027 - val_accuracy: 0.8282\n",
            "Epoch 47/50\n",
            "1563/1563 [==============================] - 14s 9ms/step - loss: 0.0441 - accuracy: 0.9864 - val_loss: 0.9497 - val_accuracy: 0.8390\n",
            "Epoch 48/50\n",
            "1563/1563 [==============================] - 13s 8ms/step - loss: 0.0483 - accuracy: 0.9847 - val_loss: 0.8704 - val_accuracy: 0.8437\n",
            "Epoch 49/50\n",
            "1563/1563 [==============================] - 13s 8ms/step - loss: 0.0393 - accuracy: 0.9874 - val_loss: 0.8563 - val_accuracy: 0.8462\n",
            "Epoch 50/50\n",
            "1563/1563 [==============================] - 14s 9ms/step - loss: 0.0407 - accuracy: 0.9875 - val_loss: 0.9027 - val_accuracy: 0.8391\n"
          ]
        },
        {
          "output_type": "execute_result",
          "data": {
            "text/plain": [
              "<keras.callbacks.History at 0x7f9680334430>"
            ]
          },
          "metadata": {},
          "execution_count": 16
        }
      ]
    },
    {
      "cell_type": "code",
      "source": [
        "losses=pd.DataFrame(model.history.history)"
      ],
      "metadata": {
        "id": "JYB2kOVCPtvJ"
      },
      "execution_count": 18,
      "outputs": []
    },
    {
      "cell_type": "code",
      "source": [
        "losses"
      ],
      "metadata": {
        "colab": {
          "base_uri": "https://localhost:8080/",
          "height": 1000
        },
        "id": "WnCO2jW6VLB_",
        "outputId": "ba504353-b7bf-48b2-bb2f-21917c20d335"
      },
      "execution_count": 19,
      "outputs": [
        {
          "output_type": "execute_result",
          "data": {
            "text/plain": [
              "        loss  accuracy  val_loss  val_accuracy\n",
              "0   1.292460   0.55500  1.183852        0.6058\n",
              "1   0.849033   0.70520  0.871250        0.6932\n",
              "2   0.692375   0.76388  0.994239        0.6935\n",
              "3   0.580078   0.80148  0.681089        0.7703\n",
              "4   0.504447   0.82672  0.693821        0.7770\n",
              "5   0.427955   0.85196  0.663540        0.7995\n",
              "6   0.360295   0.87568  0.671477        0.7943\n",
              "7   0.300474   0.89688  0.710288        0.7895\n",
              "8   0.262701   0.91016  0.620929        0.8168\n",
              "9   0.230362   0.92176  0.614216        0.8220\n",
              "10  0.199978   0.93142  0.691341        0.8077\n",
              "11  0.177163   0.93944  0.636706        0.8301\n",
              "12  0.164404   0.94524  0.846689        0.8024\n",
              "13  0.145522   0.94980  0.772867        0.8110\n",
              "14  0.133714   0.95540  0.681379        0.8372\n",
              "15  0.126250   0.95796  0.747705        0.8245\n",
              "16  0.115445   0.96122  0.715059        0.8260\n",
              "17  0.110529   0.96336  0.740980        0.8247\n",
              "18  0.100090   0.96618  0.738837        0.8313\n",
              "19  0.100198   0.96642  0.836901        0.8204\n",
              "20  0.086931   0.97140  0.717901        0.8359\n",
              "21  0.091120   0.96956  0.814683        0.8307\n",
              "22  0.084277   0.97284  0.734588        0.8400\n",
              "23  0.080141   0.97396  0.795170        0.8306\n",
              "24  0.083534   0.97276  0.735437        0.8408\n",
              "25  0.074894   0.97562  0.833327        0.8302\n",
              "26  0.078316   0.97392  0.688974        0.8361\n",
              "27  0.062767   0.97952  0.835953        0.8285\n",
              "28  0.066999   0.97842  0.753984        0.8390\n",
              "29  0.064934   0.97902  0.735573        0.8369\n",
              "30  0.061548   0.98062  0.832160        0.8406\n",
              "31  0.062874   0.97920  0.804031        0.8377\n",
              "32  0.056359   0.98094  0.885354        0.8348\n",
              "33  0.057722   0.98116  0.864528        0.8402\n",
              "34  0.056462   0.98134  0.769881        0.8386\n",
              "35  0.055524   0.98210  0.854290        0.8363\n",
              "36  0.051296   0.98260  0.901822        0.8393\n",
              "37  0.051272   0.98438  0.836368        0.8368\n",
              "38  0.051211   0.98404  0.872675        0.8438\n",
              "39  0.048334   0.98404  0.861018        0.8378\n",
              "40  0.048448   0.98404  0.855035        0.8442\n",
              "41  0.047432   0.98442  0.823358        0.8437\n",
              "42  0.050179   0.98374  0.910455        0.8380\n",
              "43  0.041897   0.98642  0.846775        0.8396\n",
              "44  0.043388   0.98602  0.908132        0.8364\n",
              "45  0.045296   0.98588  0.902675        0.8282\n",
              "46  0.044118   0.98640  0.949674        0.8390\n",
              "47  0.048306   0.98472  0.870394        0.8437\n",
              "48  0.039299   0.98740  0.856273        0.8462\n",
              "49  0.040686   0.98746  0.902654        0.8391"
            ],
            "text/html": [
              "\n",
              "  <div id=\"df-51f75972-4fd5-487c-ab18-5d9f89fde35a\">\n",
              "    <div class=\"colab-df-container\">\n",
              "      <div>\n",
              "<style scoped>\n",
              "    .dataframe tbody tr th:only-of-type {\n",
              "        vertical-align: middle;\n",
              "    }\n",
              "\n",
              "    .dataframe tbody tr th {\n",
              "        vertical-align: top;\n",
              "    }\n",
              "\n",
              "    .dataframe thead th {\n",
              "        text-align: right;\n",
              "    }\n",
              "</style>\n",
              "<table border=\"1\" class=\"dataframe\">\n",
              "  <thead>\n",
              "    <tr style=\"text-align: right;\">\n",
              "      <th></th>\n",
              "      <th>loss</th>\n",
              "      <th>accuracy</th>\n",
              "      <th>val_loss</th>\n",
              "      <th>val_accuracy</th>\n",
              "    </tr>\n",
              "  </thead>\n",
              "  <tbody>\n",
              "    <tr>\n",
              "      <th>0</th>\n",
              "      <td>1.292460</td>\n",
              "      <td>0.55500</td>\n",
              "      <td>1.183852</td>\n",
              "      <td>0.6058</td>\n",
              "    </tr>\n",
              "    <tr>\n",
              "      <th>1</th>\n",
              "      <td>0.849033</td>\n",
              "      <td>0.70520</td>\n",
              "      <td>0.871250</td>\n",
              "      <td>0.6932</td>\n",
              "    </tr>\n",
              "    <tr>\n",
              "      <th>2</th>\n",
              "      <td>0.692375</td>\n",
              "      <td>0.76388</td>\n",
              "      <td>0.994239</td>\n",
              "      <td>0.6935</td>\n",
              "    </tr>\n",
              "    <tr>\n",
              "      <th>3</th>\n",
              "      <td>0.580078</td>\n",
              "      <td>0.80148</td>\n",
              "      <td>0.681089</td>\n",
              "      <td>0.7703</td>\n",
              "    </tr>\n",
              "    <tr>\n",
              "      <th>4</th>\n",
              "      <td>0.504447</td>\n",
              "      <td>0.82672</td>\n",
              "      <td>0.693821</td>\n",
              "      <td>0.7770</td>\n",
              "    </tr>\n",
              "    <tr>\n",
              "      <th>5</th>\n",
              "      <td>0.427955</td>\n",
              "      <td>0.85196</td>\n",
              "      <td>0.663540</td>\n",
              "      <td>0.7995</td>\n",
              "    </tr>\n",
              "    <tr>\n",
              "      <th>6</th>\n",
              "      <td>0.360295</td>\n",
              "      <td>0.87568</td>\n",
              "      <td>0.671477</td>\n",
              "      <td>0.7943</td>\n",
              "    </tr>\n",
              "    <tr>\n",
              "      <th>7</th>\n",
              "      <td>0.300474</td>\n",
              "      <td>0.89688</td>\n",
              "      <td>0.710288</td>\n",
              "      <td>0.7895</td>\n",
              "    </tr>\n",
              "    <tr>\n",
              "      <th>8</th>\n",
              "      <td>0.262701</td>\n",
              "      <td>0.91016</td>\n",
              "      <td>0.620929</td>\n",
              "      <td>0.8168</td>\n",
              "    </tr>\n",
              "    <tr>\n",
              "      <th>9</th>\n",
              "      <td>0.230362</td>\n",
              "      <td>0.92176</td>\n",
              "      <td>0.614216</td>\n",
              "      <td>0.8220</td>\n",
              "    </tr>\n",
              "    <tr>\n",
              "      <th>10</th>\n",
              "      <td>0.199978</td>\n",
              "      <td>0.93142</td>\n",
              "      <td>0.691341</td>\n",
              "      <td>0.8077</td>\n",
              "    </tr>\n",
              "    <tr>\n",
              "      <th>11</th>\n",
              "      <td>0.177163</td>\n",
              "      <td>0.93944</td>\n",
              "      <td>0.636706</td>\n",
              "      <td>0.8301</td>\n",
              "    </tr>\n",
              "    <tr>\n",
              "      <th>12</th>\n",
              "      <td>0.164404</td>\n",
              "      <td>0.94524</td>\n",
              "      <td>0.846689</td>\n",
              "      <td>0.8024</td>\n",
              "    </tr>\n",
              "    <tr>\n",
              "      <th>13</th>\n",
              "      <td>0.145522</td>\n",
              "      <td>0.94980</td>\n",
              "      <td>0.772867</td>\n",
              "      <td>0.8110</td>\n",
              "    </tr>\n",
              "    <tr>\n",
              "      <th>14</th>\n",
              "      <td>0.133714</td>\n",
              "      <td>0.95540</td>\n",
              "      <td>0.681379</td>\n",
              "      <td>0.8372</td>\n",
              "    </tr>\n",
              "    <tr>\n",
              "      <th>15</th>\n",
              "      <td>0.126250</td>\n",
              "      <td>0.95796</td>\n",
              "      <td>0.747705</td>\n",
              "      <td>0.8245</td>\n",
              "    </tr>\n",
              "    <tr>\n",
              "      <th>16</th>\n",
              "      <td>0.115445</td>\n",
              "      <td>0.96122</td>\n",
              "      <td>0.715059</td>\n",
              "      <td>0.8260</td>\n",
              "    </tr>\n",
              "    <tr>\n",
              "      <th>17</th>\n",
              "      <td>0.110529</td>\n",
              "      <td>0.96336</td>\n",
              "      <td>0.740980</td>\n",
              "      <td>0.8247</td>\n",
              "    </tr>\n",
              "    <tr>\n",
              "      <th>18</th>\n",
              "      <td>0.100090</td>\n",
              "      <td>0.96618</td>\n",
              "      <td>0.738837</td>\n",
              "      <td>0.8313</td>\n",
              "    </tr>\n",
              "    <tr>\n",
              "      <th>19</th>\n",
              "      <td>0.100198</td>\n",
              "      <td>0.96642</td>\n",
              "      <td>0.836901</td>\n",
              "      <td>0.8204</td>\n",
              "    </tr>\n",
              "    <tr>\n",
              "      <th>20</th>\n",
              "      <td>0.086931</td>\n",
              "      <td>0.97140</td>\n",
              "      <td>0.717901</td>\n",
              "      <td>0.8359</td>\n",
              "    </tr>\n",
              "    <tr>\n",
              "      <th>21</th>\n",
              "      <td>0.091120</td>\n",
              "      <td>0.96956</td>\n",
              "      <td>0.814683</td>\n",
              "      <td>0.8307</td>\n",
              "    </tr>\n",
              "    <tr>\n",
              "      <th>22</th>\n",
              "      <td>0.084277</td>\n",
              "      <td>0.97284</td>\n",
              "      <td>0.734588</td>\n",
              "      <td>0.8400</td>\n",
              "    </tr>\n",
              "    <tr>\n",
              "      <th>23</th>\n",
              "      <td>0.080141</td>\n",
              "      <td>0.97396</td>\n",
              "      <td>0.795170</td>\n",
              "      <td>0.8306</td>\n",
              "    </tr>\n",
              "    <tr>\n",
              "      <th>24</th>\n",
              "      <td>0.083534</td>\n",
              "      <td>0.97276</td>\n",
              "      <td>0.735437</td>\n",
              "      <td>0.8408</td>\n",
              "    </tr>\n",
              "    <tr>\n",
              "      <th>25</th>\n",
              "      <td>0.074894</td>\n",
              "      <td>0.97562</td>\n",
              "      <td>0.833327</td>\n",
              "      <td>0.8302</td>\n",
              "    </tr>\n",
              "    <tr>\n",
              "      <th>26</th>\n",
              "      <td>0.078316</td>\n",
              "      <td>0.97392</td>\n",
              "      <td>0.688974</td>\n",
              "      <td>0.8361</td>\n",
              "    </tr>\n",
              "    <tr>\n",
              "      <th>27</th>\n",
              "      <td>0.062767</td>\n",
              "      <td>0.97952</td>\n",
              "      <td>0.835953</td>\n",
              "      <td>0.8285</td>\n",
              "    </tr>\n",
              "    <tr>\n",
              "      <th>28</th>\n",
              "      <td>0.066999</td>\n",
              "      <td>0.97842</td>\n",
              "      <td>0.753984</td>\n",
              "      <td>0.8390</td>\n",
              "    </tr>\n",
              "    <tr>\n",
              "      <th>29</th>\n",
              "      <td>0.064934</td>\n",
              "      <td>0.97902</td>\n",
              "      <td>0.735573</td>\n",
              "      <td>0.8369</td>\n",
              "    </tr>\n",
              "    <tr>\n",
              "      <th>30</th>\n",
              "      <td>0.061548</td>\n",
              "      <td>0.98062</td>\n",
              "      <td>0.832160</td>\n",
              "      <td>0.8406</td>\n",
              "    </tr>\n",
              "    <tr>\n",
              "      <th>31</th>\n",
              "      <td>0.062874</td>\n",
              "      <td>0.97920</td>\n",
              "      <td>0.804031</td>\n",
              "      <td>0.8377</td>\n",
              "    </tr>\n",
              "    <tr>\n",
              "      <th>32</th>\n",
              "      <td>0.056359</td>\n",
              "      <td>0.98094</td>\n",
              "      <td>0.885354</td>\n",
              "      <td>0.8348</td>\n",
              "    </tr>\n",
              "    <tr>\n",
              "      <th>33</th>\n",
              "      <td>0.057722</td>\n",
              "      <td>0.98116</td>\n",
              "      <td>0.864528</td>\n",
              "      <td>0.8402</td>\n",
              "    </tr>\n",
              "    <tr>\n",
              "      <th>34</th>\n",
              "      <td>0.056462</td>\n",
              "      <td>0.98134</td>\n",
              "      <td>0.769881</td>\n",
              "      <td>0.8386</td>\n",
              "    </tr>\n",
              "    <tr>\n",
              "      <th>35</th>\n",
              "      <td>0.055524</td>\n",
              "      <td>0.98210</td>\n",
              "      <td>0.854290</td>\n",
              "      <td>0.8363</td>\n",
              "    </tr>\n",
              "    <tr>\n",
              "      <th>36</th>\n",
              "      <td>0.051296</td>\n",
              "      <td>0.98260</td>\n",
              "      <td>0.901822</td>\n",
              "      <td>0.8393</td>\n",
              "    </tr>\n",
              "    <tr>\n",
              "      <th>37</th>\n",
              "      <td>0.051272</td>\n",
              "      <td>0.98438</td>\n",
              "      <td>0.836368</td>\n",
              "      <td>0.8368</td>\n",
              "    </tr>\n",
              "    <tr>\n",
              "      <th>38</th>\n",
              "      <td>0.051211</td>\n",
              "      <td>0.98404</td>\n",
              "      <td>0.872675</td>\n",
              "      <td>0.8438</td>\n",
              "    </tr>\n",
              "    <tr>\n",
              "      <th>39</th>\n",
              "      <td>0.048334</td>\n",
              "      <td>0.98404</td>\n",
              "      <td>0.861018</td>\n",
              "      <td>0.8378</td>\n",
              "    </tr>\n",
              "    <tr>\n",
              "      <th>40</th>\n",
              "      <td>0.048448</td>\n",
              "      <td>0.98404</td>\n",
              "      <td>0.855035</td>\n",
              "      <td>0.8442</td>\n",
              "    </tr>\n",
              "    <tr>\n",
              "      <th>41</th>\n",
              "      <td>0.047432</td>\n",
              "      <td>0.98442</td>\n",
              "      <td>0.823358</td>\n",
              "      <td>0.8437</td>\n",
              "    </tr>\n",
              "    <tr>\n",
              "      <th>42</th>\n",
              "      <td>0.050179</td>\n",
              "      <td>0.98374</td>\n",
              "      <td>0.910455</td>\n",
              "      <td>0.8380</td>\n",
              "    </tr>\n",
              "    <tr>\n",
              "      <th>43</th>\n",
              "      <td>0.041897</td>\n",
              "      <td>0.98642</td>\n",
              "      <td>0.846775</td>\n",
              "      <td>0.8396</td>\n",
              "    </tr>\n",
              "    <tr>\n",
              "      <th>44</th>\n",
              "      <td>0.043388</td>\n",
              "      <td>0.98602</td>\n",
              "      <td>0.908132</td>\n",
              "      <td>0.8364</td>\n",
              "    </tr>\n",
              "    <tr>\n",
              "      <th>45</th>\n",
              "      <td>0.045296</td>\n",
              "      <td>0.98588</td>\n",
              "      <td>0.902675</td>\n",
              "      <td>0.8282</td>\n",
              "    </tr>\n",
              "    <tr>\n",
              "      <th>46</th>\n",
              "      <td>0.044118</td>\n",
              "      <td>0.98640</td>\n",
              "      <td>0.949674</td>\n",
              "      <td>0.8390</td>\n",
              "    </tr>\n",
              "    <tr>\n",
              "      <th>47</th>\n",
              "      <td>0.048306</td>\n",
              "      <td>0.98472</td>\n",
              "      <td>0.870394</td>\n",
              "      <td>0.8437</td>\n",
              "    </tr>\n",
              "    <tr>\n",
              "      <th>48</th>\n",
              "      <td>0.039299</td>\n",
              "      <td>0.98740</td>\n",
              "      <td>0.856273</td>\n",
              "      <td>0.8462</td>\n",
              "    </tr>\n",
              "    <tr>\n",
              "      <th>49</th>\n",
              "      <td>0.040686</td>\n",
              "      <td>0.98746</td>\n",
              "      <td>0.902654</td>\n",
              "      <td>0.8391</td>\n",
              "    </tr>\n",
              "  </tbody>\n",
              "</table>\n",
              "</div>\n",
              "      <button class=\"colab-df-convert\" onclick=\"convertToInteractive('df-51f75972-4fd5-487c-ab18-5d9f89fde35a')\"\n",
              "              title=\"Convert this dataframe to an interactive table.\"\n",
              "              style=\"display:none;\">\n",
              "        \n",
              "  <svg xmlns=\"http://www.w3.org/2000/svg\" height=\"24px\"viewBox=\"0 0 24 24\"\n",
              "       width=\"24px\">\n",
              "    <path d=\"M0 0h24v24H0V0z\" fill=\"none\"/>\n",
              "    <path d=\"M18.56 5.44l.94 2.06.94-2.06 2.06-.94-2.06-.94-.94-2.06-.94 2.06-2.06.94zm-11 1L8.5 8.5l.94-2.06 2.06-.94-2.06-.94L8.5 2.5l-.94 2.06-2.06.94zm10 10l.94 2.06.94-2.06 2.06-.94-2.06-.94-.94-2.06-.94 2.06-2.06.94z\"/><path d=\"M17.41 7.96l-1.37-1.37c-.4-.4-.92-.59-1.43-.59-.52 0-1.04.2-1.43.59L10.3 9.45l-7.72 7.72c-.78.78-.78 2.05 0 2.83L4 21.41c.39.39.9.59 1.41.59.51 0 1.02-.2 1.41-.59l7.78-7.78 2.81-2.81c.8-.78.8-2.07 0-2.86zM5.41 20L4 18.59l7.72-7.72 1.47 1.35L5.41 20z\"/>\n",
              "  </svg>\n",
              "      </button>\n",
              "      \n",
              "  <style>\n",
              "    .colab-df-container {\n",
              "      display:flex;\n",
              "      flex-wrap:wrap;\n",
              "      gap: 12px;\n",
              "    }\n",
              "\n",
              "    .colab-df-convert {\n",
              "      background-color: #E8F0FE;\n",
              "      border: none;\n",
              "      border-radius: 50%;\n",
              "      cursor: pointer;\n",
              "      display: none;\n",
              "      fill: #1967D2;\n",
              "      height: 32px;\n",
              "      padding: 0 0 0 0;\n",
              "      width: 32px;\n",
              "    }\n",
              "\n",
              "    .colab-df-convert:hover {\n",
              "      background-color: #E2EBFA;\n",
              "      box-shadow: 0px 1px 2px rgba(60, 64, 67, 0.3), 0px 1px 3px 1px rgba(60, 64, 67, 0.15);\n",
              "      fill: #174EA6;\n",
              "    }\n",
              "\n",
              "    [theme=dark] .colab-df-convert {\n",
              "      background-color: #3B4455;\n",
              "      fill: #D2E3FC;\n",
              "    }\n",
              "\n",
              "    [theme=dark] .colab-df-convert:hover {\n",
              "      background-color: #434B5C;\n",
              "      box-shadow: 0px 1px 3px 1px rgba(0, 0, 0, 0.15);\n",
              "      filter: drop-shadow(0px 1px 2px rgba(0, 0, 0, 0.3));\n",
              "      fill: #FFFFFF;\n",
              "    }\n",
              "  </style>\n",
              "\n",
              "      <script>\n",
              "        const buttonEl =\n",
              "          document.querySelector('#df-51f75972-4fd5-487c-ab18-5d9f89fde35a button.colab-df-convert');\n",
              "        buttonEl.style.display =\n",
              "          google.colab.kernel.accessAllowed ? 'block' : 'none';\n",
              "\n",
              "        async function convertToInteractive(key) {\n",
              "          const element = document.querySelector('#df-51f75972-4fd5-487c-ab18-5d9f89fde35a');\n",
              "          const dataTable =\n",
              "            await google.colab.kernel.invokeFunction('convertToInteractive',\n",
              "                                                     [key], {});\n",
              "          if (!dataTable) return;\n",
              "\n",
              "          const docLinkHtml = 'Like what you see? Visit the ' +\n",
              "            '<a target=\"_blank\" href=https://colab.research.google.com/notebooks/data_table.ipynb>data table notebook</a>'\n",
              "            + ' to learn more about interactive tables.';\n",
              "          element.innerHTML = '';\n",
              "          dataTable['output_type'] = 'display_data';\n",
              "          await google.colab.output.renderOutput(dataTable, element);\n",
              "          const docLink = document.createElement('div');\n",
              "          docLink.innerHTML = docLinkHtml;\n",
              "          element.appendChild(docLink);\n",
              "        }\n",
              "      </script>\n",
              "    </div>\n",
              "  </div>\n",
              "  "
            ]
          },
          "metadata": {},
          "execution_count": 19
        }
      ]
    },
    {
      "cell_type": "code",
      "source": [
        "losses[['loss','val_loss']].plot()"
      ],
      "metadata": {
        "colab": {
          "base_uri": "https://localhost:8080/",
          "height": 282
        },
        "id": "nEzI3QqaVPue",
        "outputId": "0f10d787-3cd6-4a9f-f5dd-6dafadd186a8"
      },
      "execution_count": 20,
      "outputs": [
        {
          "output_type": "execute_result",
          "data": {
            "text/plain": [
              "<AxesSubplot:>"
            ]
          },
          "metadata": {},
          "execution_count": 20
        },
        {
          "output_type": "display_data",
          "data": {
            "text/plain": [
              "<Figure size 432x288 with 1 Axes>"
            ],
            "image/png": "[encoded data removed]"
          },
          "metadata": {
            "needs_background": "light"
          }
        }
      ]
    },
    {
      "cell_type": "code",
      "source": [
        "losses[['accuracy','val_accuracy']].plot()"
      ],
      "metadata": {
        "colab": {
          "base_uri": "https://localhost:8080/",
          "height": 282
        },
        "id": "uVtkwtpWVYbW",
        "outputId": "e8751683-e07f-4879-acb4-b7a2f5cc2ff1"
      },
      "execution_count": 22,
      "outputs": [
        {
          "output_type": "execute_result",
          "data": {
            "text/plain": [
              "<AxesSubplot:>"
            ]
          },
          "metadata": {},
          "execution_count": 22
        },
        {
          "output_type": "display_data",
          "data": {
            "text/plain": [
              "<Figure size 432x288 with 1 Axes>"
            ],
            "image/png": "[encoded data removed]"
          },
          "metadata": {
            "needs_background": "light"
          }
        }
      ]
    },
    {
      "cell_type": "code",
      "source": [
        "# Labels/Classes\n",
        "'''\n",
        "0. airplane \n",
        "1. automobile \n",
        "2. bird \n",
        "3. cat \n",
        "4. deer \n",
        "5. dog \n",
        "6. frog \n",
        "7. horse \n",
        "8. ship \n",
        "9. truck\n",
        "'''"
      ],
      "metadata": {
        "colab": {
          "base_uri": "https://localhost:8080/",
          "height": 36
        },
        "id": "32sNJsXgVsRg",
        "outputId": "70b39b8d-3616-4600-d6c4-07f9cf5761bb"
      },
      "execution_count": 35,
      "outputs": [
        {
          "output_type": "execute_result",
          "data": {
            "text/plain": [
              "'\\n0. airplane \\n1. automobile \\n2. bird \\n3. cat \\n4. deer \\n5. dog \\n6. frog \\n7. horse \\n8. ship \\n9. truck\\n'"
            ],
            "application/vnd.google.colaboratory.intrinsic+json": {
              "type": "string"
            }
          },
          "metadata": {},
          "execution_count": 35
        }
      ]
    },
    {
      "cell_type": "code",
      "source": [
        "plt.imshow(X_test[11])"
      ],
      "metadata": {
        "colab": {
          "base_uri": "https://localhost:8080/",
          "height": 283
        },
        "id": "eOF_o7WmWYzO",
        "outputId": "71ba0e8e-4110-4aaa-d0fb-85794b7f07a1"
      },
      "execution_count": 28,
      "outputs": [
        {
          "output_type": "execute_result",
          "data": {
            "text/plain": [
              "<matplotlib.image.AxesImage at 0x7f968c1e26a0>"
            ]
          },
          "metadata": {},
          "execution_count": 28
        },
        {
          "output_type": "display_data",
          "data": {
            "text/plain": [
              "<Figure size 432x288 with 1 Axes>"
            ],
            "image/png": "[encoded data removed]"
          },
          "metadata": {
            "needs_background": "light"
          }
        }
      ]
    },
    {
      "cell_type": "code",
      "source": [
        "model.predict(X_test[11].reshape(1,32,32,3)).argmax(axis=1)"
      ],
      "metadata": {
        "colab": {
          "base_uri": "https://localhost:8080/"
        },
        "id": "aNIgfPmYWcem",
        "outputId": "c38baee4-6957-46f1-b66c-137979ee2463"
      },
      "execution_count": 29,
      "outputs": [
        {
          "output_type": "stream",
          "name": "stdout",
          "text": [
            "1/1 [==============================] - 0s 37ms/step\n"
          ]
        },
        {
          "output_type": "execute_result",
          "data": {
            "text/plain": [
              "array([9])"
            ]
          },
          "metadata": {},
          "execution_count": 29
        }
      ]
    },
    {
      "cell_type": "markdown",
      "source": [
        "# **Using Data Augmentation**"
      ],
      "metadata": {
        "id": "hvKHNs4EXQyw"
      }
    },
    {
      "cell_type": "code",
      "source": [
        "i1=Input(shape=X_train[0].shape)\n",
        "\n",
        "x1=Conv2D(32,(3,3),activation='relu',padding='same')(i1)\n",
        "x1=BatchNormalization()(x1)\n",
        "x1=Conv2D(32,(3,3),activation='relu',padding='same')(x1)\n",
        "x1=BatchNormalization()(x1)\n",
        "x1=MaxPooling2D(pool_size=(2,2))(x1)\n",
        "\n",
        "x1=Conv2D(64,(3,3),activation='relu',padding='same')(x1)\n",
        "x1=BatchNormalization()(x1)\n",
        "x1=Conv2D(64,(3,3),activation='relu',padding='same')(x1)\n",
        "x1=BatchNormalization()(x1)\n",
        "x1=MaxPooling2D(pool_size=(2,2))(x1)\n",
        "\n",
        "x1=Conv2D(128,(3,3),activation='relu',padding='same')(x1)\n",
        "x1=BatchNormalization()(x1)\n",
        "x1=Conv2D(128,(3,3),activation='relu',padding='same')(x1)\n",
        "x1=BatchNormalization()(x1)\n",
        "x1=MaxPooling2D(pool_size=(2,2))(x1)\n",
        "\n",
        "x1=Flatten()(x1)\n",
        "\n",
        "x1=Dropout(0.2)(x1)\n",
        "\n",
        "x1=Dense(units=1024,activation='relu')(x1)\n",
        "x1=Dropout(rate=0.2)(x1)\n",
        "x1=Dense(units=K,activation='softmax')(x1)\n",
        "\n",
        "model2=Model(inputs=i1,outputs=x1)"
      ],
      "metadata": {
        "id": "8jCvYfRbXT-l"
      },
      "execution_count": 30,
      "outputs": []
    },
    {
      "cell_type": "code",
      "source": [
        "model2.summary()"
      ],
      "metadata": {
        "colab": {
          "base_uri": "https://localhost:8080/"
        },
        "id": "Of8BMefQX-td",
        "outputId": "4b22affc-e8b1-4bda-86fd-337b3bc53478"
      },
      "execution_count": 31,
      "outputs": [
        {
          "output_type": "stream",
          "name": "stdout",
          "text": [
            "Model: \"model_2\"\n",
            "_________________________________________________________________\n",
            " Layer (type)                Output Shape              Param #   \n",
            "=================================================================\n",
            " input_3 (InputLayer)        [(None, 32, 32, 3)]       0         \n",
            "                                                                 \n",
            " conv2d_12 (Conv2D)          (None, 32, 32, 32)        896       \n",
            "                                                                 \n",
            " batch_normalization_12 (Bat  (None, 32, 32, 32)       128       \n",
            " chNormalization)                                                \n",
            "                                                                 \n",
            " conv2d_13 (Conv2D)          (None, 32, 32, 32)        9248      \n",
            "                                                                 \n",
            " batch_normalization_13 (Bat  (None, 32, 32, 32)       128       \n",
            " chNormalization)                                                \n",
            "                                                                 \n",
            " max_pooling2d_6 (MaxPooling  (None, 16, 16, 32)       0         \n",
            " 2D)                                                             \n",
            "                                                                 \n",
            " conv2d_14 (Conv2D)          (None, 16, 16, 64)        18496     \n",
            "                                                                 \n",
            " batch_normalization_14 (Bat  (None, 16, 16, 64)       256       \n",
            " chNormalization)                                                \n",
            "                                                                 \n",
            " conv2d_15 (Conv2D)          (None, 16, 16, 64)        36928     \n",
            "                                                                 \n",
            " batch_normalization_15 (Bat  (None, 16, 16, 64)       256       \n",
            " chNormalization)                                                \n",
            "                                                                 \n",
            " max_pooling2d_7 (MaxPooling  (None, 8, 8, 64)         0         \n",
            " 2D)                                                             \n",
            "                                                                 \n",
            " conv2d_16 (Conv2D)          (None, 8, 8, 128)         73856     \n",
            "                                                                 \n",
            " batch_normalization_16 (Bat  (None, 8, 8, 128)        512       \n",
            " chNormalization)                                                \n",
            "                                                                 \n",
            " conv2d_17 (Conv2D)          (None, 8, 8, 128)         147584    \n",
            "                                                                 \n",
            " batch_normalization_17 (Bat  (None, 8, 8, 128)        512       \n",
            " chNormalization)                                                \n",
            "                                                                 \n",
            " max_pooling2d_8 (MaxPooling  (None, 4, 4, 128)        0         \n",
            " 2D)                                                             \n",
            "                                                                 \n",
            " flatten_2 (Flatten)         (None, 2048)              0         \n",
            "                                                                 \n",
            " dropout_4 (Dropout)         (None, 2048)              0         \n",
            "                                                                 \n",
            " dense_4 (Dense)             (None, 1024)              2098176   \n",
            "                                                                 \n",
            " dropout_5 (Dropout)         (None, 1024)              0         \n",
            "                                                                 \n",
            " dense_5 (Dense)             (None, 10)                10250     \n",
            "                                                                 \n",
            "=================================================================\n",
            "Total params: 2,397,226\n",
            "Trainable params: 2,396,330\n",
            "Non-trainable params: 896\n",
            "_________________________________________________________________\n"
          ]
        }
      ]
    },
    {
      "cell_type": "code",
      "source": [
        "model2.compile(optimizer='adam',loss='sparse_categorical_crossentropy',metrics=['accuracy'])"
      ],
      "metadata": {
        "id": "e0xXeRu2YDmD"
      },
      "execution_count": 32,
      "outputs": []
    },
    {
      "cell_type": "code",
      "source": [
        "from keras.preprocessing.image import ImageDataGenerator"
      ],
      "metadata": {
        "id": "lfxP4Q-qYLS2"
      },
      "execution_count": 33,
      "outputs": []
    },
    {
      "cell_type": "code",
      "source": [
        "batch_size=32\n",
        "\n",
        "data_generator=ImageDataGenerator(\n",
        "    width_shift_range=0.1,\n",
        "    height_shift_range=0.1,\n",
        "    horizontal_flip=True\n",
        ")\n",
        "\n",
        "train_generator=data_generator.flow(X_train,Y_train,batch_size=batch_size)\n",
        "\n",
        "steps_per_epoch=X_train.shape[0]//batch_size"
      ],
      "metadata": {
        "id": "GOd2bG1BYTjX"
      },
      "execution_count": 36,
      "outputs": []
    },
    {
      "cell_type": "code",
      "source": [
        "model2.fit_generator(train_generator,validation_data=(X_test,Y_test),steps_per_epoch=steps_per_epoch,epochs=50)"
      ],
      "metadata": {
        "colab": {
          "base_uri": "https://localhost:8080/"
        },
        "id": "XQYUCOUoZYan",
        "outputId": "c2fe8b3a-73cb-4f8c-86d2-591b882b6175"
      },
      "execution_count": 37,
      "outputs": [
        {
          "output_type": "stream",
          "name": "stdout",
          "text": [
            "Epoch 1/50\n"
          ]
        },
        {
          "output_type": "stream",
          "name": "stderr",
          "text": [
            "<ipython-input-37-5f73d055a3ef>:1: UserWarning: `Model.fit_generator` is deprecated and will be removed in a future version. Please use `Model.fit`, which supports generators.\n",
            "  model2.fit_generator(train_generator,validation_data=(X_test,Y_test),steps_per_epoch=steps_per_epoch,epochs=50)\n"
          ]
        },
        {
          "output_type": "stream",
          "name": "stdout",
          "text": [
            "1562/1562 [==============================] - 39s 22ms/step - loss: 1.4601 - accuracy: 0.4940 - val_loss: 1.1492 - val_accuracy: 0.5980\n",
            "Epoch 2/50\n",
            "1562/1562 [==============================] - 34s 22ms/step - loss: 1.0122 - accuracy: 0.6474 - val_loss: 0.9254 - val_accuracy: 0.6846\n",
            "Epoch 3/50\n",
            "1562/1562 [==============================] - 38s 24ms/step - loss: 0.8591 - accuracy: 0.7061 - val_loss: 0.8482 - val_accuracy: 0.7228\n",
            "Epoch 4/50\n",
            "1562/1562 [==============================] - 34s 22ms/step - loss: 0.7593 - accuracy: 0.7387 - val_loss: 0.7151 - val_accuracy: 0.7630\n",
            "Epoch 5/50\n",
            "1562/1562 [==============================] - 36s 23ms/step - loss: 0.6975 - accuracy: 0.7656 - val_loss: 0.7076 - val_accuracy: 0.7603\n",
            "Epoch 6/50\n",
            "1562/1562 [==============================] - 35s 23ms/step - loss: 0.6363 - accuracy: 0.7834 - val_loss: 0.7739 - val_accuracy: 0.7454\n",
            "Epoch 7/50\n",
            "1562/1562 [==============================] - 35s 22ms/step - loss: 0.5980 - accuracy: 0.7946 - val_loss: 0.5937 - val_accuracy: 0.8069\n",
            "Epoch 8/50\n",
            "1562/1562 [==============================] - 36s 23ms/step - loss: 0.5525 - accuracy: 0.8117 - val_loss: 0.6108 - val_accuracy: 0.7968\n",
            "Epoch 9/50\n",
            "1562/1562 [==============================] - 36s 23ms/step - loss: 0.5275 - accuracy: 0.8207 - val_loss: 0.6228 - val_accuracy: 0.7959\n",
            "Epoch 10/50\n",
            "1562/1562 [==============================] - 34s 22ms/step - loss: 0.4970 - accuracy: 0.8327 - val_loss: 0.5151 - val_accuracy: 0.8253\n",
            "Epoch 11/50\n",
            "1562/1562 [==============================] - 34s 22ms/step - loss: 0.4696 - accuracy: 0.8380 - val_loss: 0.5462 - val_accuracy: 0.8189\n",
            "Epoch 12/50\n",
            "1562/1562 [==============================] - 35s 23ms/step - loss: 0.4488 - accuracy: 0.8443 - val_loss: 0.4992 - val_accuracy: 0.8325\n",
            "Epoch 13/50\n",
            "1562/1562 [==============================] - 35s 22ms/step - loss: 0.4304 - accuracy: 0.8551 - val_loss: 0.5035 - val_accuracy: 0.8344\n",
            "Epoch 14/50\n",
            "1562/1562 [==============================] - 36s 23ms/step - loss: 0.4100 - accuracy: 0.8609 - val_loss: 0.4782 - val_accuracy: 0.8395\n",
            "Epoch 15/50\n",
            "1562/1562 [==============================] - 36s 23ms/step - loss: 0.3940 - accuracy: 0.8644 - val_loss: 0.4937 - val_accuracy: 0.8434\n",
            "Epoch 16/50\n",
            "1562/1562 [==============================] - 35s 23ms/step - loss: 0.3820 - accuracy: 0.8702 - val_loss: 0.4497 - val_accuracy: 0.8551\n",
            "Epoch 17/50\n",
            "1562/1562 [==============================] - 34s 22ms/step - loss: 0.3669 - accuracy: 0.8731 - val_loss: 0.4378 - val_accuracy: 0.8564\n",
            "Epoch 18/50\n",
            "1562/1562 [==============================] - 35s 23ms/step - loss: 0.3530 - accuracy: 0.8781 - val_loss: 0.4278 - val_accuracy: 0.8581\n",
            "Epoch 19/50\n",
            "1562/1562 [==============================] - 36s 23ms/step - loss: 0.3406 - accuracy: 0.8822 - val_loss: 0.4955 - val_accuracy: 0.8372\n",
            "Epoch 20/50\n",
            "1562/1562 [==============================] - 35s 22ms/step - loss: 0.3289 - accuracy: 0.8847 - val_loss: 0.4185 - val_accuracy: 0.8622\n",
            "Epoch 21/50\n",
            "1562/1562 [==============================] - 35s 23ms/step - loss: 0.3217 - accuracy: 0.8891 - val_loss: 0.4549 - val_accuracy: 0.8529\n",
            "Epoch 22/50\n",
            "1562/1562 [==============================] - 35s 22ms/step - loss: 0.3129 - accuracy: 0.8927 - val_loss: 0.4216 - val_accuracy: 0.8663\n",
            "Epoch 23/50\n",
            "1562/1562 [==============================] - 35s 22ms/step - loss: 0.3117 - accuracy: 0.8932 - val_loss: 0.4234 - val_accuracy: 0.8629\n",
            "Epoch 24/50\n",
            "1562/1562 [==============================] - 35s 22ms/step - loss: 0.2984 - accuracy: 0.8982 - val_loss: 0.4488 - val_accuracy: 0.8621\n",
            "Epoch 25/50\n",
            "1562/1562 [==============================] - 34s 22ms/step - loss: 0.2918 - accuracy: 0.8992 - val_loss: 0.4397 - val_accuracy: 0.8652\n",
            "Epoch 26/50\n",
            "1562/1562 [==============================] - 34s 22ms/step - loss: 0.2873 - accuracy: 0.9012 - val_loss: 0.4435 - val_accuracy: 0.8587\n",
            "Epoch 27/50\n",
            "1562/1562 [==============================] - 35s 22ms/step - loss: 0.2709 - accuracy: 0.9064 - val_loss: 0.4367 - val_accuracy: 0.8664\n",
            "Epoch 28/50\n",
            "1562/1562 [==============================] - 35s 22ms/step - loss: 0.2663 - accuracy: 0.9088 - val_loss: 0.4569 - val_accuracy: 0.8550\n",
            "Epoch 29/50\n",
            "1562/1562 [==============================] - 36s 23ms/step - loss: 0.2608 - accuracy: 0.9101 - val_loss: 0.4106 - val_accuracy: 0.8710\n",
            "Epoch 30/50\n",
            "1562/1562 [==============================] - 35s 22ms/step - loss: 0.2589 - accuracy: 0.9113 - val_loss: 0.4345 - val_accuracy: 0.8688\n",
            "Epoch 31/50\n",
            "1562/1562 [==============================] - 35s 22ms/step - loss: 0.2520 - accuracy: 0.9137 - val_loss: 0.4509 - val_accuracy: 0.8647\n",
            "Epoch 32/50\n",
            "1562/1562 [==============================] - 35s 22ms/step - loss: 0.2465 - accuracy: 0.9148 - val_loss: 0.4061 - val_accuracy: 0.8696\n",
            "Epoch 33/50\n",
            "1562/1562 [==============================] - 35s 22ms/step - loss: 0.2415 - accuracy: 0.9173 - val_loss: 0.4422 - val_accuracy: 0.8683\n",
            "Epoch 34/50\n",
            "1562/1562 [==============================] - 35s 23ms/step - loss: 0.2399 - accuracy: 0.9177 - val_loss: 0.4106 - val_accuracy: 0.8665\n",
            "Epoch 35/50\n",
            "1562/1562 [==============================] - 35s 23ms/step - loss: 0.2285 - accuracy: 0.9206 - val_loss: 0.3870 - val_accuracy: 0.8779\n",
            "Epoch 36/50\n",
            "1562/1562 [==============================] - 34s 22ms/step - loss: 0.2250 - accuracy: 0.9230 - val_loss: 0.4100 - val_accuracy: 0.8754\n",
            "Epoch 37/50\n",
            "1562/1562 [==============================] - 35s 22ms/step - loss: 0.2283 - accuracy: 0.9198 - val_loss: 0.4307 - val_accuracy: 0.8729\n",
            "Epoch 38/50\n",
            "1562/1562 [==============================] - 34s 22ms/step - loss: 0.2179 - accuracy: 0.9244 - val_loss: 0.4091 - val_accuracy: 0.8778\n",
            "Epoch 39/50\n",
            "1562/1562 [==============================] - 35s 22ms/step - loss: 0.2141 - accuracy: 0.9262 - val_loss: 0.4124 - val_accuracy: 0.8748\n",
            "Epoch 40/50\n",
            "1562/1562 [==============================] - 35s 22ms/step - loss: 0.2109 - accuracy: 0.9278 - val_loss: 0.4475 - val_accuracy: 0.8704\n",
            "Epoch 41/50\n",
            "1562/1562 [==============================] - 35s 22ms/step - loss: 0.2113 - accuracy: 0.9281 - val_loss: 0.4402 - val_accuracy: 0.8718\n",
            "Epoch 42/50\n",
            "1562/1562 [==============================] - 33s 21ms/step - loss: 0.2037 - accuracy: 0.9298 - val_loss: 0.3746 - val_accuracy: 0.8841\n",
            "Epoch 43/50\n",
            "1562/1562 [==============================] - 34s 22ms/step - loss: 0.1995 - accuracy: 0.9308 - val_loss: 0.4555 - val_accuracy: 0.8658\n",
            "Epoch 44/50\n",
            "1562/1562 [==============================] - 34s 22ms/step - loss: 0.2039 - accuracy: 0.9305 - val_loss: 0.4034 - val_accuracy: 0.8781\n",
            "Epoch 45/50\n",
            "1562/1562 [==============================] - 35s 22ms/step - loss: 0.1999 - accuracy: 0.9304 - val_loss: 0.4035 - val_accuracy: 0.8779\n",
            "Epoch 46/50\n",
            "1562/1562 [==============================] - 35s 22ms/step - loss: 0.1942 - accuracy: 0.9329 - val_loss: 0.3890 - val_accuracy: 0.8855\n",
            "Epoch 47/50\n",
            "1562/1562 [==============================] - 36s 23ms/step - loss: 0.1923 - accuracy: 0.9337 - val_loss: 0.4011 - val_accuracy: 0.8803\n",
            "Epoch 48/50\n",
            "1562/1562 [==============================] - 34s 22ms/step - loss: 0.1873 - accuracy: 0.9358 - val_loss: 0.4387 - val_accuracy: 0.8730\n",
            "Epoch 49/50\n",
            "1562/1562 [==============================] - 34s 22ms/step - loss: 0.1855 - accuracy: 0.9357 - val_loss: 0.4013 - val_accuracy: 0.8823\n",
            "Epoch 50/50\n",
            "1562/1562 [==============================] - 35s 23ms/step - loss: 0.1810 - accuracy: 0.9382 - val_loss: 0.3941 - val_accuracy: 0.8814\n"
          ]
        },
        {
          "output_type": "execute_result",
          "data": {
            "text/plain": [
              "<keras.callbacks.History at 0x7f968c939250>"
            ]
          },
          "metadata": {},
          "execution_count": 37
        }
      ]
    },
    {
      "cell_type": "code",
      "source": [
        "losses=pd.DataFrame(model2.history.history)"
      ],
      "metadata": {
        "id": "Ajqmht6sZ2Da"
      },
      "execution_count": 40,
      "outputs": []
    },
    {
      "cell_type": "code",
      "source": [
        "losses[['loss','val_loss']].plot()"
      ],
      "metadata": {
        "colab": {
          "base_uri": "https://localhost:8080/",
          "height": 282
        },
        "id": "nWUaEfIfhRdU",
        "outputId": "41f2b635-e5d4-4815-8cf9-d1ba38a854e6"
      },
      "execution_count": 41,
      "outputs": [
        {
          "output_type": "execute_result",
          "data": {
            "text/plain": [
              "<AxesSubplot:>"
            ]
          },
          "metadata": {},
          "execution_count": 41
        },
        {
          "output_type": "display_data",
          "data": {
            "text/plain": [
              "<Figure size 432x288 with 1 Axes>"
            ],
            "image/png": "[encoded data removed]"
          },
          "metadata": {
            "needs_background": "light"
          }
        }
      ]
    },
    {
      "cell_type": "code",
      "source": [
        "losses[['accuracy','val_accuracy']].plot()"
      ],
      "metadata": {
        "colab": {
          "base_uri": "https://localhost:8080/",
          "height": 282
        },
        "id": "qsunoX3_hUqN",
        "outputId": "214578d6-bec9-4bf7-addc-7e4817d97b81"
      },
      "execution_count": 42,
      "outputs": [
        {
          "output_type": "execute_result",
          "data": {
            "text/plain": [
              "<AxesSubplot:>"
            ]
          },
          "metadata": {},
          "execution_count": 42
        },
        {
          "output_type": "display_data",
          "data": {
            "text/plain": [
              "<Figure size 432x288 with 1 Axes>"
            ],
            "image/png": "[encoded data removed]"
          },
          "metadata": {
            "needs_background": "light"
          }
        }
      ]
    },
    {
      "cell_type": "code",
      "source": [
        "from sklearn.metrics import confusion_matrix"
      ],
      "metadata": {
        "id": "LLj3SXywhgf9"
      },
      "execution_count": 43,
      "outputs": []
    },
    {
      "cell_type": "code",
      "source": [
        "y_pred=model2.predict(X_test)"
      ],
      "metadata": {
        "colab": {
          "base_uri": "https://localhost:8080/"
        },
        "id": "RtlYMosSh74w",
        "outputId": "35b32510-ccc0-4791-fa32-ec5f97c34366"
      },
      "execution_count": 44,
      "outputs": [
        {
          "output_type": "stream",
          "name": "stdout",
          "text": [
            "313/313 [==============================] - 1s 3ms/step\n"
          ]
        }
      ]
    },
    {
      "cell_type": "code",
      "source": [
        "model2.predict(X_test[11].reshape(1,32,32,3)).argmax(axis=1)"
      ],
      "metadata": {
        "colab": {
          "base_uri": "https://localhost:8080/"
        },
        "id": "uRxUtm5PiBcG",
        "outputId": "571abd9e-000a-48d6-c8f5-a3fb035a9133"
      },
      "execution_count": 46,
      "outputs": [
        {
          "output_type": "stream",
          "name": "stdout",
          "text": [
            "1/1 [==============================] - 0s 43ms/step\n"
          ]
        },
        {
          "output_type": "execute_result",
          "data": {
            "text/plain": [
              "array([9])"
            ]
          },
          "metadata": {},
          "execution_count": 46
        }
      ]
    },
    {
      "cell_type": "code",
      "source": [
        "import cv2"
      ],
      "metadata": {
        "id": "HzahFkZZiP-t"
      },
      "execution_count": 47,
      "outputs": []
    },
    {
      "cell_type": "code",
      "source": [
        "img=cv2.imread('/content/car.jpg')"
      ],
      "metadata": {
        "id": "5c4Xha4pictI"
      },
      "execution_count": 59,
      "outputs": []
    },
    {
      "cell_type": "code",
      "source": [
        "plt.imshow(img)"
      ],
      "metadata": {
        "colab": {
          "base_uri": "https://localhost:8080/",
          "height": 273
        },
        "id": "8lgeWWWAiihE",
        "outputId": "6f2de630-c1e0-40fc-ebbd-981aefc05180"
      },
      "execution_count": 60,
      "outputs": [
        {
          "output_type": "execute_result",
          "data": {
            "text/plain": [
              "<matplotlib.image.AxesImage at 0x7f952c02a640>"
            ]
          },
          "metadata": {},
          "execution_count": 60
        },
        {
          "output_type": "display_data",
          "data": {
            "text/plain": [
              "<Figure size 432x288 with 1 Axes>"
            ],
            "image/png": "[encoded data removed]"
          },
          "metadata": {
            "needs_background": "light"
          }
        }
      ]
    },
    {
      "cell_type": "code",
      "source": [
        "img=cv2.resize(img,(32,32))\n",
        "test_input=img.reshape((1,32,32,3))"
      ],
      "metadata": {
        "id": "9S53ZHMbilDr"
      },
      "execution_count": 61,
      "outputs": []
    },
    {
      "cell_type": "code",
      "source": [
        "model.predict(test_input).argmax(axis=1)"
      ],
      "metadata": {
        "colab": {
          "base_uri": "https://localhost:8080/"
        },
        "id": "DrT4JMzGjIHS",
        "outputId": "3adfb755-3469-4c6a-fff0-b4f2c2935e86"
      },
      "execution_count": 62,
      "outputs": [
        {
          "output_type": "stream",
          "name": "stdout",
          "text": [
            "1/1 [==============================] - 0s 27ms/step\n"
          ]
        },
        {
          "output_type": "execute_result",
          "data": {
            "text/plain": [
              "array([1])"
            ]
          },
          "metadata": {},
          "execution_count": 62
        }
      ]
    },
    {
      "cell_type": "code",
      "source": [
        "plt.imshow(img)"
      ],
      "metadata": {
        "colab": {
          "base_uri": "https://localhost:8080/",
          "height": 283
        },
        "id": "T-8a37OkjNAl",
        "outputId": "13eeadc0-96ec-40b8-81fe-09710c07a81f"
      },
      "execution_count": 63,
      "outputs": [
        {
          "output_type": "execute_result",
          "data": {
            "text/plain": [
              "<matplotlib.image.AxesImage at 0x7f95240be040>"
            ]
          },
          "metadata": {},
          "execution_count": 63
        },
        {
          "output_type": "display_data",
          "data": {
            "text/plain": [
              "<Figure size 432x288 with 1 Axes>"
            ],
            "image/png": "[encoded data removed]"
          },
          "metadata": {
            "needs_background": "light"
          }
        }
      ]
    },
    {
      "cell_type": "code",
      "source": [],
      "metadata": {
        "id": "jqRJWssHjUZs"
      },
      "execution_count": null,
      "outputs": []
    }
  ]
}